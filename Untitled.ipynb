{
 "cells": [
  {
   "cell_type": "code",
   "execution_count": 20,
   "metadata": {},
   "outputs": [],
   "source": [
    "import numpy as np\n",
    "import matplotlib.pyplot as plt\n",
    "\n",
    "g=9.81"
   ]
  },
  {
   "cell_type": "markdown",
   "metadata": {},
   "source": [
    "We consider a point mass $m$ moving on a sphere with variable radius $l(t)$ and centerpoint $\\vec{R}(t)$ in a static gravitational potential $V(\\vec{r}) \\equiv mg r_z(t)$. We parametrize $\\vec{r}$ by some independent parameter $t$, i.e.\n",
    "$$\n",
    "\\vec{r}(t) = \\vec{R}(t) + l(t)\n",
    "\\begin{pmatrix}\n",
    "    \\cos(\\phi(t)) \\sin(\\theta(t))\n",
    "    \\\\\n",
    "    \\sin(\\phi(t)) \\sin(\\theta(t))\n",
    "    \\\\\n",
    "    \\cos(\\theta(t))\n",
    "\\end{pmatrix}.\n",
    "$$\n",
    "The Lagrangian of the system is given by\n",
    "$$\n",
    "L[\\theta(t), \\dot{\\theta}(t), \\phi(t), \\dot{\\phi}(t)] = \\frac{1}{2} m \\dot{\\vec{r}}(t)^2 - mg r_z(t)\n",
    "$$\n",
    "and the Euler-Lagrange equations give\n",
    "$$\n",
    "\\begin{aligned}\n",
    "\\ddot{\\theta}\n",
    "&=\n",
    "-\\frac{1}{l}\n",
    "\\left(\n",
    "    + g\\sin(\\theta) \n",
    "    - \\cos(\\theta)l\\sin(\\theta)\\dot{\\phi}^2\n",
    "    + 2\\dot{l}\\dot{\\theta}\n",
    "    + \\cos(\\phi)\\cos(\\theta)\\ddot{R}_x\n",
    "    + \\cos\\theta \\sin\\phi \\ddot{R}_y\n",
    "    + \\sin\\theta \\ddot{R}_z\n",
    "\\right)\n",
    "\\\\\n",
    "\\ddot{\\phi}\n",
    "&=\n",
    "\\frac{1}{l}\n",
    "\\left(\n",
    "    -2 \\dot{l} \\dot{\\phi}\n",
    "    -2 \\cot\\theta l \\dot{\\phi} \\dot{\\theta} \n",
    "     + \\csc\\theta \\sin\\phi \\ddot{R}_x \n",
    "     - \\cos\\phi \\csc\\theta \\ddot{R}_y\n",
    "\\right),\n",
    "\\end{aligned}\n",
    "$$\n",
    "which already implies that the physics of the point mass does not depend upon its mass. Hence, an elevators movement is the same, regardless of an additional player being on the elevator."
   ]
  },
  {
   "cell_type": "code",
   "execution_count": 24,
   "metadata": {},
   "outputs": [],
   "source": [
    "def euclidean_coord(R, l, theta, phi):\n",
    "    \"\"\"\n",
    "    computes the position of the point mass in euclidean coordinates\n",
    "    \n",
    "    Parameters:\n",
    "    -----------\n",
    "    R: np.ndarray of size 3\n",
    "        position of the centre of rotation\n",
    "    l: float\n",
    "        length of rope\n",
    "    theta: float\n",
    "        Spherical coordinates, theta measured from bottom of sphere\n",
    "    phi: float\n",
    "        Spherical coordinates, phi measured from x axis\n",
    "    \n",
    "    Returns:\n",
    "    -------\n",
    "    euclidean_pos: np.ndarray of size 3\n",
    "        The position of the point mass in euclidean coordinates\n",
    "    \"\"\"\n",
    "    euclidean_pos = R + l*np.array([\n",
    "        np.cos(phi)*np.sin(theta),\n",
    "        np.sin(phi)*np.sin(theta),\n",
    "        -np.cos(theta)\n",
    "    ])\n",
    "    return euclidean_pos"
   ]
  },
  {
   "cell_type": "markdown",
   "metadata": {},
   "source": [
    "We defne\n",
    "$$\n",
    "    \\vec{z}(t)\n",
    "    =\n",
    "    \\begin{pmatrix}\n",
    "        z_1(t)\\\\\n",
    "        z_2(t)\\\\\n",
    "        z_3(t)\\\\\n",
    "        z_4(t)\n",
    "    \\end{pmatrix}\n",
    "    \\equiv\n",
    "    \\begin{pmatrix}\n",
    "        \\theta(t)\\\\\n",
    "        \\phi(t)\\\\\n",
    "        \\dot{\\theta}(t)\\\\\n",
    "        \\dot{\\phi}(t)\n",
    "    \\end{pmatrix},\n",
    "$$\n",
    "such that\n",
    "$$\n",
    "\\begin{aligned}\n",
    "    \\dot{\\vec{z}}(t)\n",
    "    &=\n",
    "    \\begin{pmatrix}\n",
    "        z_3\\\\\n",
    "        z_4\\\\\n",
    "        -\\frac{1}{l}\n",
    "        \\left(\n",
    "            + g\\sin(z_1) \n",
    "            - \\cos(z_1)l\\sin(z_1)\\dot{z}_2^2\n",
    "            + 2\\dot{l}\\dot{z}_1\n",
    "            + \\cos(z_2)\\cos(z_1)\\ddot{R}_x\n",
    "            + \\cos z_1 \\sin z_2 \\ddot{R}_y\n",
    "            + \\sin z_1 \\ddot{R}_z\n",
    "        \\right)\\\\\n",
    "        \\frac{1}{l}\n",
    "        \\left(\n",
    "            -2 \\dot{l} \\dot{z}_2\n",
    "            -2 \\cot z_1 l \\dot{z}_2 \\dot{z}_1\n",
    "             + \\csc z_1 \\sin z_2 \\ddot{R}_x \n",
    "             - \\cos z_2 \\csc z_1 \\ddot{R}_y\n",
    "        \\right)\n",
    "    \\end{pmatrix}\n",
    "    \\\\\n",
    "    &\\equiv\n",
    "    \\mathrm{RHS}(\\vec{z}, l, \\dot{l}, \\ddot{\\vec{R}}).\n",
    "\\end{aligned}\n",
    "$$\n",
    "This means that, in order to track the time evolution of the point mass $\\vec{r}(t)$, we need the following parameters\n",
    "* Length of rope: $l(t)$\n",
    "* Rate of change in rope's length: $\\dot{l}(t)$\n",
    "* Acceleration of sphere: $\\ddot{\\vec{R}}(t)$"
   ]
  },
  {
   "cell_type": "code",
   "execution_count": 54,
   "metadata": {},
   "outputs": [],
   "source": [
    "def RHS(z, l, ld, Rdd):\n",
    "    \"\"\"\n",
    "    Returns the right-hand side (RHS) of the equation\n",
    "    \\dot{z}(t) = RHS(z, l(t), \\cot{l}(t), \\ddot{\\vec{R}}(t))\n",
    "    \n",
    "    Parameters:\n",
    "    z: np.ndarray of size 4\n",
    "        z(t):=np.array([theta(t), phi(t), \\dot{\\theta}(t), \\dot{phi}(t)])\n",
    "    l: floating point number\n",
    "        Length of the rope at time t, i.e. l(t)\n",
    "    ld: floating point number\n",
    "        Temporal derivative of the rope's length, i.e. \\dot{l}\n",
    "    Rdd: np.ndarray of size 3\n",
    "        Second derivative of sphere's position with respect to time, i.e. \\ddot{\\vec{R}}(t)\n",
    "    \"\"\"\n",
    "    \n",
    "    z1 = z[0] # theta(t)\n",
    "    z2 = z[1] # phi(t)\n",
    "    z3 = z[2] # \\dot{theta}(t)\n",
    "    z4 = z[3] # \\dot{phi}(t)\n",
    "    \n",
    "    z1d = z3\n",
    "    z2d = z4\n",
    "    z3d = -1./l*(\n",
    "          g*np.sin(z1)\n",
    "        - np.cos(z1)*l*np.sin(z1)*z2d**2.\n",
    "        + 2.*ld*z1d\n",
    "        + np.cos(z2)*np.cos(z1)*Rdd[0] + np.cos(z1)*np.sin(z2)*Rdd[1]\n",
    "        + np.sin(z1)*Rdd[2]\n",
    "    )\n",
    "    # EL eqs. give something like sin(theta)(... + phi'') = 0, i.e. if theta==0, we can't divide by sin(theta)\n",
    "    # This is a mathematical artifact of the spherical coordinates as (x, y, z): R^2 -> R^3 is\n",
    "    # not injective, i.e. if theta==0 or theta==\n",
    "    # However, it should be more or less intuitive to notice that, if theta==0, seting phi''=0\n",
    "    # has no physical implication\n",
    "    if z1 % np.pi==0:\n",
    "        z4d = 0\n",
    "    else:\n",
    "        z4d = -1./l*(\n",
    "            - 2.*ld*z2d\n",
    "            - 2.*(1./np.tan(z1))*l*z1d*z2d\n",
    "            + (1./np.sin(z1))*np.sin(z2)*Rdd[0]\n",
    "            - np.cos(z2)*(1./np.sin(z1))*Rdd[1]\n",
    "        )\n",
    "    \n",
    "    return np.array([z1d, z2d, z3d, z4d])"
   ]
  },
  {
   "cell_type": "code",
   "execution_count": 55,
   "metadata": {},
   "outputs": [],
   "source": [
    "def explicit_euler_step(z, l, ld, Rdd, dt):\n",
    "    return z + dt*RHS(z, l, ld, Rdd)"
   ]
  },
  {
   "cell_type": "code",
   "execution_count": 64,
   "metadata": {},
   "outputs": [],
   "source": [
    "T = 1\n",
    "N = 1000\n",
    "dt = float( float(T)/float(N-1) )\n",
    "f = 1\n",
    "omega = 2.*np.pi*f\n",
    "R = np.array([[np.cos(omega*t)*0.5, 0, 0] for t in np.linspace(0, T, N)])\n",
    "Rdd = np.array([[- omega**2 * np.cos(omega*t) * 0.5, 0, 0] for t in np.linspace(0, T, N)])\n",
    "l = np.array([1 for t in np.linspace(0, T, N)])\n",
    "ld = np.array([0 for t in np.linspace(0, T, N)])\n",
    "\n",
    "z0 = np.array([0, 0, 0, 0])\n",
    "r0 = euclidean_coord(R[0], l[0], z0[0], z0[1])\n",
    "z = np.zeros((N, 4))\n",
    "r = np.zeros((N, 3))\n",
    "r[0] = r0\n",
    "z[0] = z0\n",
    "\n",
    "for k, t in enumerate(np.linspace(0, T, N-1)):\n",
    "    z[k+1] = explicit_euler_step(z[k], l[k], ld[k], Rdd[k], dt)\n",
    "    r[k+1] = euclidean_coord(R[k+1], l[k+1], z[k+1][0], z[k+1][1])"
   ]
  },
  {
   "cell_type": "code",
   "execution_count": 65,
   "metadata": {},
   "outputs": [
    {
     "data": {
      "text/plain": [
       "<matplotlib.collections.PathCollection at 0x7f11be404850>"
      ]
     },
     "execution_count": 65,
     "metadata": {},
     "output_type": "execute_result"
    },
    {
     "data": {
      "image/png": "[encoded data removed]",
      "text/plain": [
       "<Figure size 432x288 with 1 Axes>"
      ]
     },
     "metadata": {
      "needs_background": "light"
     },
     "output_type": "display_data"
    }
   ],
   "source": [
    "fig, ax = plt.subplots()\n",
    "ax.scatter(r[:, 0], r[:, 2])\n",
    "ax.scatter(R[:, 0], R[:, 2])"
   ]
  },
  {
   "cell_type": "code",
   "execution_count": null,
   "metadata": {},
   "outputs": [],
   "source": []
  }
 ],
 "metadata": {
  "kernelspec": {
   "display_name": "Python 3",
   "language": "python",
   "name": "python3"
  },
  "language_info": {
   "codemirror_mode": {
    "name": "ipython",
    "version": 3
   },
   "file_extension": ".py",
   "mimetype": "text/x-python",
   "name": "python",
   "nbconvert_exporter": "python",
   "pygments_lexer": "ipython3",
   "version": "3.8.10"
  }
 },
 "nbformat": 4,
 "nbformat_minor": 4
}
